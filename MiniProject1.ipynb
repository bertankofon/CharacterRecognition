{
  "nbformat": 4,
  "nbformat_minor": 0,
  "metadata": {
    "colab": {
      "provenance": [],
      "authorship_tag": "ABX9TyNtf+JAfIuhEK9S70Gs6Elc",
      "include_colab_link": true
    },
    "kernelspec": {
      "name": "python3",
      "display_name": "Python 3"
    },
    "language_info": {
      "name": "python"
    }
  },
  "cells": [
    {
      "cell_type": "markdown",
      "metadata": {
        "id": "view-in-github",
        "colab_type": "text"
      },
      "source": [
        "<a href=\"https://colab.research.google.com/github/bertankofon/CharacterRecognition/blob/main/MiniProject1.ipynb\" target=\"_parent\"><img src=\"https://colab.research.google.com/assets/colab-badge.svg\" alt=\"Open In Colab\"/></a>"
      ]
    },
    {
      "cell_type": "markdown",
      "source": [
        "#Data Preparation"
      ],
      "metadata": {
        "id": "Cx4B5OlyrbMw"
      }
    },
    {
      "cell_type": "code",
      "execution_count": null,
      "metadata": {
        "colab": {
          "base_uri": "https://localhost:8080/"
        },
        "id": "Fb-_aI97W8Nf",
        "outputId": "8c86263e-608e-41ee-f83c-f6458f53ede3"
      },
      "outputs": [
        {
          "output_type": "stream",
          "name": "stdout",
          "text": [
            "Training images shape: (60000, 784)\n",
            "Test images shape: (10000, 784)\n"
          ]
        }
      ],
      "source": [
        "import numpy as np\n",
        "from keras.datasets import mnist\n",
        "\n",
        "# Load the dataset\n",
        "(train_images, train_labels), (test_images, test_labels) = mnist.load_data()\n",
        "\n",
        "# Normalize the images.\n",
        "train_images = (train_images / 255) - 0.5\n",
        "test_images = (test_images / 255) - 0.5\n",
        "\n",
        "# Flatten the images.\n",
        "train_images = train_images.reshape((-1, 784))\n",
        "test_images = test_images.reshape((-1, 784))\n",
        "\n",
        "print(\"Training images shape:\", train_images.shape) # Should be (60000, 784)\n",
        "print(\"Test images shape:\", test_images.shape) # Should be (10000, 784)\n"
      ]
    },
    {
      "cell_type": "markdown",
      "source": [
        "#Model Implemantation"
      ],
      "metadata": {
        "id": "xXh1Mk9lr-B1"
      }
    },
    {
      "cell_type": "markdown",
      "source": [
        "Case 1: Use tanh for all activations.\n",
        "\n",
        "Case 2: Use ReLU for the hidden layer activation and sigmoid for the output layer activation."
      ],
      "metadata": {
        "id": "WWXaHXRfU8UG"
      }
    },
    {
      "cell_type": "markdown",
      "source": [
        "Define Activation Functions and their derivatives"
      ],
      "metadata": {
        "id": "5TChwEvgjYc4"
      }
    },
    {
      "cell_type": "code",
      "source": [
        "# Tanh activation and its derivative\n",
        "def tanh(x):\n",
        "    return np.tanh(x)\n",
        "\n",
        "def tanh_derivative(x):\n",
        "    return 1 - np.tanh(x)**2\n",
        "\n",
        "# ReLU activation and its derivative\n",
        "def relu(x):\n",
        "    return np.maximum(0, x)\n",
        "\n",
        "def relu_derivative(x):\n",
        "    return (x > 0).astype(float)\n",
        "\n",
        "# Define the sigmoid activation function\n",
        "def sigmoid(x):\n",
        "    return 1 / (1 + np.exp(-x))\n",
        "\n",
        "# Derivative of the sigmoid function for backpropagation\n",
        "def sigmoid_derivative(x):\n",
        "    return sigmoid(x) * (1 - sigmoid(x))\n",
        "\n"
      ],
      "metadata": {
        "id": "ubUDfynAVP2o"
      },
      "execution_count": null,
      "outputs": []
    },
    {
      "cell_type": "markdown",
      "source": [
        "Case 1: Use tanh for all activations."
      ],
      "metadata": {
        "id": "nnHbKncVU92C"
      }
    },
    {
      "cell_type": "code",
      "source": [
        "# Set the random seed for reproducibility\n",
        "np.random.seed(42)\n",
        "\n",
        "# Initialize parameters to random values\n",
        "input_size = 784  # MNIST images are 28x28 pixels\n",
        "hidden_size = 500  # N = (300, 500 or 1000) CHANGABLE\n",
        "num_classes = 10  # There are 10 classes for the digits 0-9\n",
        "\n",
        "# Weights and biases for the hidden layer\n",
        "W1 = np.random.randn(input_size, hidden_size) * 0.01\n",
        "b1 = np.zeros((1, hidden_size))\n",
        "\n",
        "# Weights and biases for the output layer\n",
        "W2 = np.random.randn(hidden_size, num_classes) * 0.01\n",
        "b2 = np.zeros((1, num_classes))\n",
        "\n",
        "# Define the learning rate\n",
        "learning_rate = 1e-1 # CHANGE\n",
        "\n",
        "# Forward pass using tanh\n",
        "def forward_pass_tanh(X, W1, b1, W2, b2):\n",
        "    Z1 = np.dot(X, W1) + b1\n",
        "    A1 = tanh(Z1)\n",
        "    Z2 = np.dot(A1, W2) + b2\n",
        "    A2 = tanh(Z2)\n",
        "    return Z1, A1, Z2, A2\n",
        "\n",
        "\n",
        "# Compute the cross-entropy loss\n",
        "def compute_loss(Y, A2):\n",
        "    m = Y.shape[0]\n",
        "    log_likelihood = -np.log(A2[range(m), Y] + 1e-9)\n",
        "    loss = np.sum(log_likelihood) / m\n",
        "    return loss\n",
        "\n",
        "\n",
        "# Backward pass\n",
        "def backward_pass_tanh(X, Y, Z1, A1, W2, A2):\n",
        "    m = X.shape[0]\n",
        "    # Calculate W2 and b2 gradients\n",
        "    dZ2 = A2\n",
        "    dZ2[range(m), Y] -= 1\n",
        "    dW2 = np.dot(A1.T, dZ2) / m\n",
        "    db2 = np.sum(dZ2, axis=0, keepdims=True) / m\n",
        "\n",
        "    # Calculate W1 and b1 gradients\n",
        "    dA1 = np.dot(dZ2, W2.T)\n",
        "    dZ1 = dA1 * tanh_derivative(Z1)\n",
        "    dW1 = np.dot(X.T, dZ1) / m\n",
        "    db1 = np.sum(dZ1, axis=0, keepdims=True) / m\n",
        "\n",
        "    return dW1, db1, dW2, db2\n",
        "\n",
        "# Parameters update function\n",
        "def update_parameters(W1, b1, W2, b2, dW1, db1, dW2, db2, learning_rate):\n",
        "    W1 -= learning_rate * dW1\n",
        "    b1 -= learning_rate * db1\n",
        "    W2 -= learning_rate * dW2\n",
        "    b2 -= learning_rate * db2\n",
        "    return W1, b1, W2, b2\n",
        "\n",
        "# Training loop\n",
        "num_epochs = 10  # CHANGE\n",
        "for epoch in range(num_epochs):\n",
        "    # Forward pass\n",
        "    Z1, A1, Z2, A2 = forward_pass_tanh(train_images, W1, b1, W2, b2)\n",
        "\n",
        "    # Compute loss\n",
        "    cost = compute_loss(train_labels, A2)\n",
        "    print(f'Epoch {epoch + 1}, cost: {cost}')\n",
        "\n",
        "     # Backward pass\n",
        "    dW1, db1, dW2, db2 = backward_pass_tanh(train_images, train_labels, Z1, A1, W2, A2)\n",
        "\n",
        "    # Update parameters\n",
        "    W1, b1, W2, b2 = update_parameters(W1, b1, W2, b2, dW1, db1, dW2, db2, learning_rate)\n"
      ],
      "metadata": {
        "colab": {
          "base_uri": "https://localhost:8080/"
        },
        "id": "hNHSCsMoVAdj",
        "outputId": "835cb51b-8f8f-4d0a-e933-196da0149c13"
      },
      "execution_count": null,
      "outputs": [
        {
          "output_type": "stream",
          "name": "stderr",
          "text": [
            "<ipython-input-16-62709f70ec92>:32: RuntimeWarning: invalid value encountered in log\n",
            "  log_likelihood = -np.log(A2[range(m), Y] + 1e-9)\n"
          ]
        },
        {
          "output_type": "stream",
          "name": "stdout",
          "text": [
            "Epoch 1, cost: nan\n",
            "Epoch 2, cost: 1.8907039476022958\n",
            "Epoch 3, cost: nan\n",
            "Epoch 4, cost: 1.9986157126895001\n",
            "Epoch 5, cost: 2.0060616021708118\n",
            "Epoch 6, cost: 1.9155720148424171\n",
            "Epoch 7, cost: 1.8710431564434014\n",
            "Epoch 8, cost: 1.8141987957021388\n",
            "Epoch 9, cost: nan\n",
            "Epoch 10, cost: nan\n"
          ]
        }
      ]
    },
    {
      "cell_type": "markdown",
      "source": [
        "Case 2: Use ReLU for the hidden layer activation and sigmoid for the output layer activation."
      ],
      "metadata": {
        "id": "imJuI_CxiYQo"
      }
    },
    {
      "cell_type": "code",
      "source": [
        "# Set the random seed for reproducibility\n",
        "np.random.seed(42)\n",
        "\n",
        "# Initialize parameters to random values\n",
        "input_size = 784  # MNIST images are 28x28 pixels\n",
        "hidden_size = 500  # N = (300, 500 or 1000) CHANGABLE\n",
        "num_classes = 10  # There are 10 classes for the digits 0-9\n",
        "\n",
        "# Weights and biases for the hidden layer\n",
        "W1 = np.random.randn(input_size, hidden_size) * 0.01\n",
        "b1 = np.zeros((1, hidden_size))\n",
        "\n",
        "# Weights and biases for the output layer\n",
        "W2 = np.random.randn(hidden_size, num_classes) * 0.01\n",
        "b2 = np.zeros((1, num_classes))\n",
        "\n",
        "# Define the learning rate\n",
        "learning_rate = 1e-1 # CHANGE\n",
        "\n",
        "# Forward pass using ReLU and sigmoid\n",
        "def forward_pass_relu_sigmoid(X, W1, b1, W2, b2):\n",
        "    Z1 = np.dot(X, W1) + b1\n",
        "    A1 = relu(Z1)\n",
        "    Z2 = np.dot(A1, W2) + b2\n",
        "    A2 = sigmoid(Z2)\n",
        "    return Z1, A1, Z2, A2\n",
        "\n",
        "\n",
        "# Compute the cross-entropy loss\n",
        "def compute_loss(Y, A2):\n",
        "    m = Y.shape[0]\n",
        "    log_likelihood = -np.log(A2[range(m), Y])\n",
        "    loss = np.sum(log_likelihood) / m\n",
        "    return loss\n",
        "\n",
        "# Backward pass using ReLU and sigmoid\n",
        "def backward_pass_relu_sigmoid(X, Y, Z1, A1, W2, A2):\n",
        "    m = X.shape[0]\n",
        "    # Calculate W2 and b2 gradients\n",
        "    dZ2 = A2\n",
        "    dZ2[range(m), Y] -= 1\n",
        "    dW2 = np.dot(A1.T, dZ2) / m\n",
        "    db2 = np.sum(dZ2, axis=0, keepdims=True) / m\n",
        "\n",
        "    # Calculate W1 and b1 gradients\n",
        "    dA1 = np.dot(dZ2, W2.T)\n",
        "    dZ1 = dA1 * relu_derivative(Z1)\n",
        "    dW1 = np.dot(X.T, dZ1) / m\n",
        "    db1 = np.sum(dZ1, axis=0, keepdims=True) / m\n",
        "\n",
        "    return dW1, db1, dW2, db2\n",
        "\n",
        "# Parameters update function\n",
        "def update_parameters(W1, b1, W2, b2, dW1, db1, dW2, db2, learning_rate):\n",
        "    W1 -= learning_rate * dW1\n",
        "    b1 -= learning_rate * db1\n",
        "    W2 -= learning_rate * dW2\n",
        "    b2 -= learning_rate * db2\n",
        "    return W1, b1, W2, b2\n",
        "\n",
        "# Training loop\n",
        "num_epochs = 10  # CHANGE\n",
        "for epoch in range(num_epochs):\n",
        "    # Forward pass\n",
        "    Z1, A1, Z2, A2 = forward_pass_tanh(train_images, W1, b1, W2, b2)\n",
        "\n",
        "    # Compute loss\n",
        "    cost = compute_loss(train_labels, A2)\n",
        "    print(f'Epoch {epoch + 1}, cost: {cost}')\n",
        "\n",
        "     # Backward pass\n",
        "    dW1, db1, dW2, db2 = backward_pass_tanh(train_images, train_labels, Z1, A1, W2, A2)\n",
        "\n",
        "    # Update parameters\n",
        "    W1, b1, W2, b2 = update_parameters(W1, b1, W2, b2, dW1, db1, dW2, db2, learning_rate)\n"
      ],
      "metadata": {
        "colab": {
          "base_uri": "https://localhost:8080/"
        },
        "id": "l9hm00NciZxj",
        "outputId": "b5a097b3-958e-4e84-fb33-270bfa0c6ba8"
      },
      "execution_count": null,
      "outputs": [
        {
          "output_type": "stream",
          "name": "stderr",
          "text": [
            "<ipython-input-15-c2fcaa308aeb>:32: RuntimeWarning: invalid value encountered in log\n",
            "  log_likelihood = -np.log(A2[range(m), Y])\n"
          ]
        },
        {
          "output_type": "stream",
          "name": "stdout",
          "text": [
            "Epoch 1, cost: nan\n",
            "Epoch 2, cost: 1.8907039543580224\n",
            "Epoch 3, cost: nan\n",
            "Epoch 4, cost: 1.998615720263118\n",
            "Epoch 5, cost: 2.006061609848726\n",
            "Epoch 6, cost: 1.9155720218694516\n",
            "Epoch 7, cost: 1.8710431631992095\n",
            "Epoch 8, cost: 1.8141988021171056\n",
            "Epoch 9, cost: nan\n",
            "Epoch 10, cost: nan\n"
          ]
        }
      ]
    },
    {
      "cell_type": "code",
      "source": [
        "#NAIVE CODE\n",
        "\n",
        "import numpy as np\n",
        "\n",
        "# Set the random seed for reproducibility\n",
        "np.random.seed(42)\n",
        "\n",
        "# Define the sigmoid activation function\n",
        "def sigmoid(x):\n",
        "    return 1 / (1 + np.exp(-x))\n",
        "\n",
        "# Derivative of the sigmoid function for backpropagation\n",
        "def sigmoid_derivative(x):\n",
        "    return sigmoid(x) * (1 - sigmoid(x))\n",
        "\n",
        "# Initialize parameters to random values\n",
        "input_size = 784  # MNIST images are 28x28 pixels\n",
        "hidden_size = 500  # N = (300, 500 or 1000) CHANGABLE\n",
        "num_classes = 10  # There are 10 classes for the digits 0-9\n",
        "\n",
        "# Weights and biases for the hidden layer\n",
        "W1 = np.random.randn(input_size, hidden_size) * 0.01\n",
        "b1 = np.zeros((1, hidden_size))\n",
        "\n",
        "# Weights and biases for the output layer\n",
        "W2 = np.random.randn(hidden_size, num_classes) * 0.01\n",
        "b2 = np.zeros((1, num_classes))\n",
        "\n",
        "# Define the learning rate\n",
        "learning_rate = 1e-1 # CHANGABLE\n",
        "\n",
        "# Forward pass\n",
        "def forward_pass(X, W1, b1, W2, b2):\n",
        "    Z1 = np.dot(X, W1) + b1\n",
        "    A1 = sigmoid(Z1)\n",
        "    Z2 = np.dot(A1, W2) + b2\n",
        "    A2 = np.exp(Z2) / np.sum(np.exp(Z2), axis=1, keepdims=True)  # Softmax\n",
        "    return Z1, A1, Z2, A2\n",
        "\n",
        "# Compute the cross-entropy loss\n",
        "def compute_loss(Y, A2):\n",
        "    m = Y.shape[0]\n",
        "    log_likelihood = -np.log(A2[range(m), Y])\n",
        "    loss = np.sum(log_likelihood) / m\n",
        "    return loss\n",
        "\n",
        "# Backward pass\n",
        "def backward_pass(X, Y, Z1, A1, W2, A2):\n",
        "    m = X.shape[0]\n",
        "    # Calculate W2 and b2 gradients\n",
        "    dZ2 = A2\n",
        "    dZ2[range(m), Y] -= 1\n",
        "    dW2 = np.dot(A1.T, dZ2) / m\n",
        "    db2 = np.sum(dZ2, axis=0, keepdims=True) / m\n",
        "\n",
        "    # Calculate W1 and b1 gradients\n",
        "    dA1 = np.dot(dZ2, W2.T)\n",
        "    dZ1 = dA1 * sigmoid_derivative(Z1)\n",
        "    dW1 = np.dot(X.T, dZ1) / m\n",
        "    db1 = np.sum(dZ1, axis=0, keepdims=True) / m\n",
        "\n",
        "    return dW1, db1, dW2, db2\n",
        "\n",
        "# Parameters update function\n",
        "def update_parameters(W1, b1, W2, b2, dW1, db1, dW2, db2, learning_rate):\n",
        "    W1 -= learning_rate * dW1\n",
        "    b1 -= learning_rate * db1\n",
        "    W2 -= learning_rate * dW2\n",
        "    b2 -= learning_rate * db2\n",
        "    return W1, b1, W2, b2\n",
        "\n",
        "# Training loop\n",
        "num_epochs = 10  # You can change this\n",
        "for epoch in range(num_epochs):\n",
        "    # Forward pass\n",
        "    Z1, A1, Z2, A2 = forward_pass(train_images, W1, b1, W2, b2)\n",
        "\n",
        "    # Compute loss\n",
        "    cost = compute_loss(train_labels, A2)\n",
        "    print(f'Epoch {epoch + 1}, cost: {cost}')\n",
        "\n",
        "     # Backward pass\n",
        "    dW1, db1, dW2, db2 = backward_pass(train_images, train_labels, Z1, A1, W2, A2)\n",
        "\n",
        "    # Update parameters\n",
        "    W1, b1, W2, b2 = update_parameters(W1, b1, W2, b2, dW1, db1, dW2, db2, learning_rate)\n"
      ],
      "metadata": {
        "colab": {
          "base_uri": "https://localhost:8080/"
        },
        "id": "5bdotYICsCoB",
        "outputId": "ba006ccd-53d5-4cec-f8e9-3b953028986f"
      },
      "execution_count": null,
      "outputs": [
        {
          "output_type": "stream",
          "name": "stdout",
          "text": [
            "Epoch 1, cost: 2.3054058710849628\n",
            "Epoch 2, cost: 2.3001994398006462\n",
            "Epoch 3, cost: 2.299205010144376\n",
            "Epoch 4, cost: 2.298488539925594\n",
            "Epoch 5, cost: 2.2977962863320682\n",
            "Epoch 6, cost: 2.297105549734341\n",
            "Epoch 7, cost: 2.2964135135430745\n",
            "Epoch 8, cost: 2.2957194855260736\n",
            "Epoch 9, cost: 2.2950230616566025\n",
            "Epoch 10, cost: 2.2943238795094723\n"
          ]
        }
      ]
    }
  ]
}